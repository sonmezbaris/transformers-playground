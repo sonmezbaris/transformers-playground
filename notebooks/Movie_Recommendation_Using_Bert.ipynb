{
 "cells": [
  {
   "cell_type": "markdown",
   "id": "ad9688b1-1431-4269-9042-88260596461c",
   "metadata": {},
   "source": [
    "## Gerekli kutuphanleri install etme "
   ]
  },
  {
   "cell_type": "code",
   "execution_count": 3,
   "id": "c4e5d459-c095-4139-b9bb-f5afcc03c4aa",
   "metadata": {},
   "outputs": [
    {
     "name": "stdout",
     "output_type": "stream",
     "text": [
      "Requirement already satisfied: torch in /opt/homebrew/anaconda3/lib/python3.12/site-packages (2.6.0)\n",
      "Requirement already satisfied: transformers in /opt/homebrew/anaconda3/lib/python3.12/site-packages (4.49.0)\n",
      "Requirement already satisfied: datasets in /opt/homebrew/anaconda3/lib/python3.12/site-packages (3.3.2)\n",
      "Requirement already satisfied: scikit-learn in /opt/homebrew/anaconda3/lib/python3.12/site-packages (1.6.1)\n",
      "Requirement already satisfied: pandas in /opt/homebrew/anaconda3/lib/python3.12/site-packages (2.2.2)\n",
      "Requirement already satisfied: filelock in /opt/homebrew/anaconda3/lib/python3.12/site-packages (from torch) (3.13.1)\n",
      "Requirement already satisfied: typing-extensions>=4.10.0 in /opt/homebrew/anaconda3/lib/python3.12/site-packages (from torch) (4.11.0)\n",
      "Requirement already satisfied: networkx in /opt/homebrew/anaconda3/lib/python3.12/site-packages (from torch) (3.3)\n",
      "Requirement already satisfied: jinja2 in /opt/homebrew/anaconda3/lib/python3.12/site-packages (from torch) (3.1.4)\n",
      "Requirement already satisfied: fsspec in /opt/homebrew/anaconda3/lib/python3.12/site-packages (from torch) (2024.6.1)\n",
      "Requirement already satisfied: setuptools in /opt/homebrew/anaconda3/lib/python3.12/site-packages (from torch) (75.1.0)\n",
      "Requirement already satisfied: sympy==1.13.1 in /opt/homebrew/anaconda3/lib/python3.12/site-packages (from torch) (1.13.1)\n",
      "Requirement already satisfied: mpmath<1.4,>=1.1.0 in /opt/homebrew/anaconda3/lib/python3.12/site-packages (from sympy==1.13.1->torch) (1.3.0)\n",
      "Requirement already satisfied: huggingface-hub<1.0,>=0.26.0 in /opt/homebrew/anaconda3/lib/python3.12/site-packages (from transformers) (0.29.2)\n",
      "Requirement already satisfied: numpy>=1.17 in /opt/homebrew/anaconda3/lib/python3.12/site-packages (from transformers) (1.26.4)\n",
      "Requirement already satisfied: packaging>=20.0 in /opt/homebrew/anaconda3/lib/python3.12/site-packages (from transformers) (24.1)\n",
      "Requirement already satisfied: pyyaml>=5.1 in /opt/homebrew/anaconda3/lib/python3.12/site-packages (from transformers) (6.0.1)\n",
      "Requirement already satisfied: regex!=2019.12.17 in /opt/homebrew/anaconda3/lib/python3.12/site-packages (from transformers) (2024.9.11)\n",
      "Requirement already satisfied: requests in /opt/homebrew/anaconda3/lib/python3.12/site-packages (from transformers) (2.32.3)\n",
      "Requirement already satisfied: tokenizers<0.22,>=0.21 in /opt/homebrew/anaconda3/lib/python3.12/site-packages (from transformers) (0.21.0)\n",
      "Requirement already satisfied: safetensors>=0.4.1 in /opt/homebrew/anaconda3/lib/python3.12/site-packages (from transformers) (0.5.3)\n",
      "Requirement already satisfied: tqdm>=4.27 in /opt/homebrew/anaconda3/lib/python3.12/site-packages (from transformers) (4.66.5)\n",
      "Requirement already satisfied: pyarrow>=15.0.0 in /opt/homebrew/anaconda3/lib/python3.12/site-packages (from datasets) (16.1.0)\n",
      "Requirement already satisfied: dill<0.3.9,>=0.3.0 in /opt/homebrew/anaconda3/lib/python3.12/site-packages (from datasets) (0.3.8)\n",
      "Requirement already satisfied: xxhash in /opt/homebrew/anaconda3/lib/python3.12/site-packages (from datasets) (3.5.0)\n",
      "Requirement already satisfied: multiprocess<0.70.17 in /opt/homebrew/anaconda3/lib/python3.12/site-packages (from datasets) (0.70.16)\n",
      "Requirement already satisfied: aiohttp in /opt/homebrew/anaconda3/lib/python3.12/site-packages (from datasets) (3.10.5)\n",
      "Requirement already satisfied: scipy>=1.6.0 in /opt/homebrew/anaconda3/lib/python3.12/site-packages (from scikit-learn) (1.13.1)\n",
      "Requirement already satisfied: joblib>=1.2.0 in /opt/homebrew/anaconda3/lib/python3.12/site-packages (from scikit-learn) (1.4.2)\n",
      "Requirement already satisfied: threadpoolctl>=3.1.0 in /opt/homebrew/anaconda3/lib/python3.12/site-packages (from scikit-learn) (3.5.0)\n",
      "Requirement already satisfied: python-dateutil>=2.8.2 in /opt/homebrew/anaconda3/lib/python3.12/site-packages (from pandas) (2.9.0.post0)\n",
      "Requirement already satisfied: pytz>=2020.1 in /opt/homebrew/anaconda3/lib/python3.12/site-packages (from pandas) (2024.1)\n",
      "Requirement already satisfied: tzdata>=2022.7 in /opt/homebrew/anaconda3/lib/python3.12/site-packages (from pandas) (2023.3)\n",
      "Requirement already satisfied: aiohappyeyeballs>=2.3.0 in /opt/homebrew/anaconda3/lib/python3.12/site-packages (from aiohttp->datasets) (2.4.0)\n",
      "Requirement already satisfied: aiosignal>=1.1.2 in /opt/homebrew/anaconda3/lib/python3.12/site-packages (from aiohttp->datasets) (1.2.0)\n",
      "Requirement already satisfied: attrs>=17.3.0 in /opt/homebrew/anaconda3/lib/python3.12/site-packages (from aiohttp->datasets) (23.1.0)\n",
      "Requirement already satisfied: frozenlist>=1.1.1 in /opt/homebrew/anaconda3/lib/python3.12/site-packages (from aiohttp->datasets) (1.4.0)\n",
      "Requirement already satisfied: multidict<7.0,>=4.5 in /opt/homebrew/anaconda3/lib/python3.12/site-packages (from aiohttp->datasets) (6.0.4)\n",
      "Requirement already satisfied: yarl<2.0,>=1.0 in /opt/homebrew/anaconda3/lib/python3.12/site-packages (from aiohttp->datasets) (1.11.0)\n",
      "Requirement already satisfied: six>=1.5 in /opt/homebrew/anaconda3/lib/python3.12/site-packages (from python-dateutil>=2.8.2->pandas) (1.16.0)\n",
      "Requirement already satisfied: charset-normalizer<4,>=2 in /opt/homebrew/anaconda3/lib/python3.12/site-packages (from requests->transformers) (3.3.2)\n",
      "Requirement already satisfied: idna<4,>=2.5 in /opt/homebrew/anaconda3/lib/python3.12/site-packages (from requests->transformers) (3.7)\n",
      "Requirement already satisfied: urllib3<3,>=1.21.1 in /opt/homebrew/anaconda3/lib/python3.12/site-packages (from requests->transformers) (2.2.3)\n",
      "Requirement already satisfied: certifi>=2017.4.17 in /opt/homebrew/anaconda3/lib/python3.12/site-packages (from requests->transformers) (2025.1.31)\n",
      "Requirement already satisfied: MarkupSafe>=2.0 in /opt/homebrew/anaconda3/lib/python3.12/site-packages (from jinja2->torch) (2.1.3)\n"
     ]
    }
   ],
   "source": [
    "!pip install torch transformers datasets scikit-learn pandas"
   ]
  },
  {
   "cell_type": "markdown",
   "id": "a3e7a023-da8d-456f-b67c-a34f17384d43",
   "metadata": {},
   "source": [
    "## GPU Kontrolu"
   ]
  },
  {
   "cell_type": "code",
   "execution_count": 6,
   "id": "ec3b632f-0d5a-4888-8062-2ef15bac8313",
   "metadata": {},
   "outputs": [
    {
     "name": "stdout",
     "output_type": "stream",
     "text": [
      "Using device:cpu \n"
     ]
    }
   ],
   "source": [
    "import torch\n",
    "\n",
    "if torch.cuda.is_available():\n",
    "    device=\"cuda\"\n",
    "else:\n",
    "    device=\"cpu\"\n",
    "\n",
    "print(f\"Using device:{device} \")"
   ]
  },
  {
   "cell_type": "markdown",
   "id": "4de1cf8b-d994-466b-9764-f385c24b0729",
   "metadata": {},
   "source": [
    "## Veri Setini indirme ve inceleme"
   ]
  },
  {
   "cell_type": "code",
   "execution_count": 9,
   "id": "60bac9b0-7889-4123-8d45-c24e250a2ae1",
   "metadata": {},
   "outputs": [
    {
     "name": "stdout",
     "output_type": "stream",
     "text": [
      "   MovieID                               Title                        Genres\n",
      "0        1                    Toy Story (1995)   Animation|Children's|Comedy\n",
      "1        2                      Jumanji (1995)  Adventure|Children's|Fantasy\n",
      "2        3             Grumpier Old Men (1995)                Comedy|Romance\n",
      "3        4            Waiting to Exhale (1995)                  Comedy|Drama\n",
      "4        5  Father of the Bride Part II (1995)                        Comedy\n",
      "5        6                         Heat (1995)         Action|Crime|Thriller\n",
      "6        7                      Sabrina (1995)                Comedy|Romance\n",
      "7        8                 Tom and Huck (1995)          Adventure|Children's\n",
      "8        9                 Sudden Death (1995)                        Action\n",
      "9       10                    GoldenEye (1995)     Action|Adventure|Thriller\n"
     ]
    }
   ],
   "source": [
    "import zipfile\n",
    "import pandas as pd \n",
    "\n",
    "zip_path=\"ml-1m.zip\"\n",
    "\n",
    "with zipfile.ZipFile(zip_path,\"r\") as archive:\n",
    "    # movies.dat dosyasini acma ve okuma \n",
    "    with archive.open(\"ml-1m/movies.dat\") as file:\n",
    "        movies=pd.read_csv(file, sep=\"::\", engine=\"python\", names=[\"MovieID\", \"Title\", \"Genres\"], encoding=\"ISO-8859-1\")\n",
    "\n",
    "print(movies.head(10))"
   ]
  },
  {
   "cell_type": "markdown",
   "id": "838109bc-4d26-493e-bf2d-bca9b353d8e6",
   "metadata": {},
   "source": [
    "### Gereksiz sutunlari temizleme Genres sutunu nu silme \n",
    "### Eksik Verileri Kontrol etme \n",
    "### Title sutunundaki yil degerlerini silme filmlerin yil degerlerini silme cunku tum veriler string formatta olmali"
   ]
  },
  {
   "cell_type": "code",
   "execution_count": 12,
   "id": "a2f570a4-43ca-4e59-bec2-c51cc0db8187",
   "metadata": {},
   "outputs": [
    {
     "name": "stdout",
     "output_type": "stream",
     "text": [
      "Toplam film sayısı: 3883\n",
      "Yıl formatında olmayan film sayısı: 0\n",
      "Tüm filmlerde yıl bilgisi doğru formatta! ✅\n"
     ]
    }
   ],
   "source": [
    "import re \n",
    "\n",
    "invalid_years=[]\n",
    "\n",
    "for title in movies[\"Title\"]:\n",
    "    years = re.findall(r\"\\((\\d{4})\\)\", title)\n",
    "    if not years:  # Eğer (YYYY) formatında yıl yoksa\n",
    "        invalid_years.append(title)\n",
    "\n",
    "\n",
    "# Sonuçları yazdıralım\n",
    "print(f\"Toplam film sayısı: {len(movies)}\")\n",
    "print(f\"Yıl formatında olmayan film sayısı: {len(invalid_years)}\")\n",
    "\n",
    "if invalid_years:\n",
    "    print(\"Örnek yanlış formatlar:\")\n",
    "    print(invalid_years[:5])  # İlk 5 hatalı filmi göster\n",
    "else:\n",
    "    print(\"Tüm filmlerde yıl bilgisi doğru formatta! ✅\")"
   ]
  },
  {
   "cell_type": "code",
   "execution_count": 14,
   "id": "85d250af-3827-4042-842f-76e614e353af",
   "metadata": {},
   "outputs": [
    {
     "name": "stdout",
     "output_type": "stream",
     "text": [
      "   MovieID                         Title                        Genres\n",
      "0        1                    Toy Story    Animation|Children's|Comedy\n",
      "1        2                      Jumanji   Adventure|Children's|Fantasy\n",
      "2        3             Grumpier Old Men                 Comedy|Romance\n",
      "3        4            Waiting to Exhale                   Comedy|Drama\n",
      "4        5  Father of the Bride Part II                         Comedy\n"
     ]
    }
   ],
   "source": [
    "movies[\"Title\"]=movies[\"Title\"].apply(lambda x: x.replace(\"(1995)\",\"\"))\n",
    "\n",
    "print(movies.head())"
   ]
  },
  {
   "cell_type": "code",
   "execution_count": 16,
   "id": "b0c6d592-fb5f-4d27-824a-a83d62dfd5f2",
   "metadata": {},
   "outputs": [
    {
     "name": "stdout",
     "output_type": "stream",
     "text": [
      "Eksik veri sayisi:\n",
      " MovieID    0\n",
      "Title      0\n",
      "dtype: int64\n"
     ]
    }
   ],
   "source": [
    "import re\n",
    "\n",
    "movies=movies[[\"MovieID\",\"Title\"]]\n",
    "\n",
    "print(\"Eksik veri sayisi:\\n\", movies.isnull().sum())\n",
    "\n"
   ]
  },
  {
   "cell_type": "markdown",
   "id": "e30a774b-bdda-4b61-839e-37e5ad34ad4d",
   "metadata": {},
   "source": [
    "### Bert Modelini Kullanarak Embedding Cikartma"
   ]
  },
  {
   "cell_type": "code",
   "execution_count": 19,
   "id": "73442b07-31d3-4e38-94b6-b86c482e7a93",
   "metadata": {},
   "outputs": [
    {
     "name": "stdout",
     "output_type": "stream",
     "text": [
      "Requirement already satisfied: transformers in /opt/homebrew/anaconda3/lib/python3.12/site-packages (4.49.0)\n",
      "Requirement already satisfied: torch in /opt/homebrew/anaconda3/lib/python3.12/site-packages (2.6.0)\n",
      "Requirement already satisfied: filelock in /opt/homebrew/anaconda3/lib/python3.12/site-packages (from transformers) (3.13.1)\n",
      "Requirement already satisfied: huggingface-hub<1.0,>=0.26.0 in /opt/homebrew/anaconda3/lib/python3.12/site-packages (from transformers) (0.29.2)\n",
      "Requirement already satisfied: numpy>=1.17 in /opt/homebrew/anaconda3/lib/python3.12/site-packages (from transformers) (1.26.4)\n",
      "Requirement already satisfied: packaging>=20.0 in /opt/homebrew/anaconda3/lib/python3.12/site-packages (from transformers) (24.1)\n",
      "Requirement already satisfied: pyyaml>=5.1 in /opt/homebrew/anaconda3/lib/python3.12/site-packages (from transformers) (6.0.1)\n",
      "Requirement already satisfied: regex!=2019.12.17 in /opt/homebrew/anaconda3/lib/python3.12/site-packages (from transformers) (2024.9.11)\n",
      "Requirement already satisfied: requests in /opt/homebrew/anaconda3/lib/python3.12/site-packages (from transformers) (2.32.3)\n",
      "Requirement already satisfied: tokenizers<0.22,>=0.21 in /opt/homebrew/anaconda3/lib/python3.12/site-packages (from transformers) (0.21.0)\n",
      "Requirement already satisfied: safetensors>=0.4.1 in /opt/homebrew/anaconda3/lib/python3.12/site-packages (from transformers) (0.5.3)\n",
      "Requirement already satisfied: tqdm>=4.27 in /opt/homebrew/anaconda3/lib/python3.12/site-packages (from transformers) (4.66.5)\n",
      "Requirement already satisfied: typing-extensions>=4.10.0 in /opt/homebrew/anaconda3/lib/python3.12/site-packages (from torch) (4.11.0)\n",
      "Requirement already satisfied: networkx in /opt/homebrew/anaconda3/lib/python3.12/site-packages (from torch) (3.3)\n",
      "Requirement already satisfied: jinja2 in /opt/homebrew/anaconda3/lib/python3.12/site-packages (from torch) (3.1.4)\n",
      "Requirement already satisfied: fsspec in /opt/homebrew/anaconda3/lib/python3.12/site-packages (from torch) (2024.6.1)\n",
      "Requirement already satisfied: setuptools in /opt/homebrew/anaconda3/lib/python3.12/site-packages (from torch) (75.1.0)\n",
      "Requirement already satisfied: sympy==1.13.1 in /opt/homebrew/anaconda3/lib/python3.12/site-packages (from torch) (1.13.1)\n",
      "Requirement already satisfied: mpmath<1.4,>=1.1.0 in /opt/homebrew/anaconda3/lib/python3.12/site-packages (from sympy==1.13.1->torch) (1.3.0)\n",
      "Requirement already satisfied: MarkupSafe>=2.0 in /opt/homebrew/anaconda3/lib/python3.12/site-packages (from jinja2->torch) (2.1.3)\n",
      "Requirement already satisfied: charset-normalizer<4,>=2 in /opt/homebrew/anaconda3/lib/python3.12/site-packages (from requests->transformers) (3.3.2)\n",
      "Requirement already satisfied: idna<4,>=2.5 in /opt/homebrew/anaconda3/lib/python3.12/site-packages (from requests->transformers) (3.7)\n",
      "Requirement already satisfied: urllib3<3,>=1.21.1 in /opt/homebrew/anaconda3/lib/python3.12/site-packages (from requests->transformers) (2.2.3)\n",
      "Requirement already satisfied: certifi>=2017.4.17 in /opt/homebrew/anaconda3/lib/python3.12/site-packages (from requests->transformers) (2025.1.31)\n",
      "Note: you may need to restart the kernel to use updated packages.\n"
     ]
    }
   ],
   "source": [
    "pip install transformers torch"
   ]
  },
  {
   "cell_type": "markdown",
   "id": "cf3344af-3efc-4145-914d-d98cb8eb94d8",
   "metadata": {},
   "source": [
    "### Bert modeli ve tokenizer i yukleyerek film basliklarini islemeye hazir hale getirme\n",
    "### bert-base-uncased modelini kullanma"
   ]
  },
  {
   "cell_type": "code",
   "execution_count": 22,
   "id": "10609084-5892-4e04-b305-09dcf944156e",
   "metadata": {},
   "outputs": [
    {
     "data": {
      "text/plain": [
       "BertModel(\n",
       "  (embeddings): BertEmbeddings(\n",
       "    (word_embeddings): Embedding(30522, 768, padding_idx=0)\n",
       "    (position_embeddings): Embedding(512, 768)\n",
       "    (token_type_embeddings): Embedding(2, 768)\n",
       "    (LayerNorm): LayerNorm((768,), eps=1e-12, elementwise_affine=True)\n",
       "    (dropout): Dropout(p=0.1, inplace=False)\n",
       "  )\n",
       "  (encoder): BertEncoder(\n",
       "    (layer): ModuleList(\n",
       "      (0-11): 12 x BertLayer(\n",
       "        (attention): BertAttention(\n",
       "          (self): BertSdpaSelfAttention(\n",
       "            (query): Linear(in_features=768, out_features=768, bias=True)\n",
       "            (key): Linear(in_features=768, out_features=768, bias=True)\n",
       "            (value): Linear(in_features=768, out_features=768, bias=True)\n",
       "            (dropout): Dropout(p=0.1, inplace=False)\n",
       "          )\n",
       "          (output): BertSelfOutput(\n",
       "            (dense): Linear(in_features=768, out_features=768, bias=True)\n",
       "            (LayerNorm): LayerNorm((768,), eps=1e-12, elementwise_affine=True)\n",
       "            (dropout): Dropout(p=0.1, inplace=False)\n",
       "          )\n",
       "        )\n",
       "        (intermediate): BertIntermediate(\n",
       "          (dense): Linear(in_features=768, out_features=3072, bias=True)\n",
       "          (intermediate_act_fn): GELUActivation()\n",
       "        )\n",
       "        (output): BertOutput(\n",
       "          (dense): Linear(in_features=3072, out_features=768, bias=True)\n",
       "          (LayerNorm): LayerNorm((768,), eps=1e-12, elementwise_affine=True)\n",
       "          (dropout): Dropout(p=0.1, inplace=False)\n",
       "        )\n",
       "      )\n",
       "    )\n",
       "  )\n",
       "  (pooler): BertPooler(\n",
       "    (dense): Linear(in_features=768, out_features=768, bias=True)\n",
       "    (activation): Tanh()\n",
       "  )\n",
       ")"
      ]
     },
     "execution_count": 22,
     "metadata": {},
     "output_type": "execute_result"
    }
   ],
   "source": [
    "from transformers import BertTokenizer, BertModel\n",
    "\n",
    "import torch\n",
    "\n",
    "# Bert modelini yukleme\n",
    "\n",
    "tokenizer=BertTokenizer.from_pretrained('bert-base-uncased')\n",
    "\n",
    "model=BertModel.from_pretrained('bert-base-uncased')\n",
    "\n",
    "# modeli degerlendirme moduna al (dropout ve benzeri ozellikleri kapat)\n",
    "\n",
    "model.eval()\n",
    "\n"
   ]
  },
  {
   "cell_type": "code",
   "execution_count": 23,
   "id": "7f5798f3-f1fc-4934-984a-a7d1b3117e95",
   "metadata": {},
   "outputs": [
    {
     "name": "stdout",
     "output_type": "stream",
     "text": [
      "tensor([[ 1.3750e-01, -1.0786e-01, -2.5206e-01, -1.3676e-01,  6.6372e-01,\n",
      "          4.6134e-05,  2.3826e-01,  1.7072e-01, -4.9719e-01,  1.9115e-02,\n",
      "          5.9916e-02, -1.8349e-01,  1.4102e-01,  1.7501e-01, -4.9600e-01,\n",
      "         -1.3410e-01,  1.0248e-02,  3.5867e-01, -1.2135e-01, -4.5477e-02,\n",
      "         -2.3480e-02, -2.2080e-01, -2.0359e-01,  2.6954e-02,  2.4596e-01,\n",
      "         -8.1455e-02, -1.7963e-01,  1.5606e-01,  7.7688e-02, -1.8981e-01,\n",
      "         -2.3555e-01, -1.6214e-01,  4.3008e-01,  1.4024e-01, -1.2392e-01,\n",
      "         -1.3268e-01, -7.6439e-02,  1.1116e-01, -7.9166e-01, -2.8659e-01,\n",
      "         -8.5754e-02, -2.3410e-01,  2.3850e-01, -8.2590e-02,  1.1459e-01,\n",
      "         -3.5211e-01, -1.0808e-01, -1.4607e-01,  9.5167e-02,  3.5866e-01,\n",
      "          1.1067e-01,  5.0732e-02,  4.2638e-02,  8.0183e-02,  2.7185e-01,\n",
      "          5.9407e-01,  3.7081e-03, -1.8570e-01, -6.2255e-02,  1.7736e-01,\n",
      "          5.8885e-03,  3.6821e-01,  2.6649e-01, -4.2125e-01, -3.6577e-03,\n",
      "          2.2430e-01,  3.1332e-01,  4.8942e-01, -5.5601e-01,  9.7597e-04,\n",
      "         -1.2640e-01,  3.3638e-02,  2.6570e-01,  1.4219e-01,  2.2836e-01,\n",
      "         -1.0078e-01,  2.6480e-04,  4.2987e-01, -3.0436e-01, -2.0460e-01,\n",
      "         -2.3675e-01,  3.2507e-01,  2.6442e-01,  4.1624e-01, -1.4441e-01,\n",
      "          7.0600e-02, -1.8600e-01, -4.1372e-01, -4.0886e-02,  3.8135e-01,\n",
      "         -9.6819e-02, -1.9526e-01, -2.6765e-01,  3.2288e-01,  3.4761e-01,\n",
      "         -3.8509e-02, -5.9339e-01, -4.3247e-02, -1.9955e-01,  5.5203e-01,\n",
      "         -3.2870e-02,  2.6265e-01, -1.9322e-01,  2.1462e-01, -3.8724e-01,\n",
      "         -2.2109e-01,  5.9379e-01,  1.6945e-01,  1.5544e-01, -4.7431e-01,\n",
      "          4.1333e-01, -6.3537e-01,  3.4490e-01, -2.5734e-01, -1.9483e-01,\n",
      "          4.4382e-01,  1.3739e-01, -1.3305e-01, -2.6102e-01,  3.3416e-01,\n",
      "         -5.0838e-01, -4.8259e-01, -9.6843e-02,  1.0265e+00,  3.8651e-02,\n",
      "          2.2075e-01, -4.9268e-01, -1.1411e-01, -6.2541e-02, -4.0115e-01,\n",
      "          2.5929e-01,  3.3082e-01, -1.5833e-01, -2.3835e-01,  3.7543e-02,\n",
      "          5.0565e-01,  1.9541e-01,  3.7739e-01, -6.3324e-01,  1.3045e-01,\n",
      "         -2.2454e-01,  5.2892e-01, -9.4206e-01, -2.8808e-01,  4.2946e-01,\n",
      "          3.6339e-01,  1.3568e-01,  1.2016e-01,  2.0843e-01, -8.1395e-02,\n",
      "          6.6158e-02, -2.3033e-01, -2.6370e-01, -7.0146e-02, -1.0621e-02,\n",
      "         -8.3455e-02, -1.4583e-01,  3.9873e-01,  2.0884e-02,  6.3010e-01,\n",
      "          4.8600e-02, -4.2032e-01, -2.2501e-01,  3.5822e-01, -4.5520e-01,\n",
      "          5.6642e-01, -1.4786e-02,  2.3118e-01,  4.0146e-02, -1.5879e-01,\n",
      "         -5.4254e-02, -1.2331e-02,  6.7493e-01,  1.2358e-01,  3.7698e-01,\n",
      "          6.2324e-02,  3.4372e-01,  5.4194e-01, -1.3345e-01, -2.3819e-01,\n",
      "         -2.3297e+00,  4.2181e-01,  5.7364e-01,  4.0116e-01,  4.9898e-01,\n",
      "         -7.5455e-02,  1.5156e-01, -2.8947e-01,  1.1472e-01, -1.2191e-01,\n",
      "          2.0199e-01,  1.2763e-01, -6.4669e-01,  1.8572e-01,  6.2276e-01,\n",
      "         -4.1937e-02, -1.1810e-01, -7.3555e-01, -2.1801e-02, -6.7425e-02,\n",
      "          1.3517e-01, -3.8056e-01,  3.1995e-01,  5.3356e-01, -1.5068e-01,\n",
      "          9.6480e-01, -1.2204e-01, -1.0074e-01,  2.4268e-01,  1.3553e-02,\n",
      "         -6.5137e-01,  3.5904e-01,  8.0404e-02, -2.0721e-01,  2.9382e-01,\n",
      "         -3.1447e-01,  1.7236e-01, -2.2716e-01, -6.5622e-01,  6.8381e-02,\n",
      "          1.0818e-01,  3.2718e-01, -5.4247e-01,  8.0581e-02, -8.2151e-02,\n",
      "          5.9381e-01,  6.5748e-01,  3.7075e-01,  1.9169e-01,  3.6746e-01,\n",
      "         -3.1558e-01, -2.4901e-01,  4.1439e-01,  1.7614e-01, -4.7672e-02,\n",
      "          7.9258e-02, -3.1480e-01, -4.3245e-01,  7.9225e-02,  3.7370e-02,\n",
      "         -4.7146e-01,  2.5270e-01,  1.6759e-01,  3.4527e-01,  2.4716e-01,\n",
      "         -2.8479e-02, -5.6989e-02,  3.0945e-01, -1.1728e-01, -2.5502e-01,\n",
      "         -2.2293e-01, -3.3699e-01,  5.3058e-01, -4.9588e-01, -1.2686e-01,\n",
      "         -2.6119e-01, -6.4596e-02, -7.8223e-02,  1.3495e-02,  7.0532e-02,\n",
      "          3.3203e-01,  1.7172e-01,  5.2663e-01,  3.0515e-01, -6.1581e-01,\n",
      "         -3.7421e-01, -2.8414e-01,  4.8913e-02,  6.0865e-02,  2.1622e-01,\n",
      "         -6.4901e-02, -2.0613e-01, -2.2666e-01, -9.6347e-01, -1.0020e-02,\n",
      "         -3.3333e-01,  2.4714e-01, -8.0781e-04,  2.2122e-01, -1.1421e-01,\n",
      "          7.3259e-03,  3.7010e-01, -4.1563e-01,  1.6324e-01, -8.9248e-02,\n",
      "         -3.5156e-01, -4.5317e-01, -1.0884e-01, -1.4654e-01, -1.7125e-01,\n",
      "         -3.0501e-01, -9.8051e-02, -6.7199e-01,  1.3721e-01,  2.5082e-01,\n",
      "         -1.6904e-01,  9.1196e-02,  2.1488e-01,  3.6165e-01, -2.4250e-01,\n",
      "         -1.6981e-01,  1.0311e-01, -1.1374e-01,  1.0275e-01, -1.4153e-01,\n",
      "          5.0056e-01,  1.3355e-01, -3.7115e-01, -8.2580e-01,  5.2336e-02,\n",
      "         -4.1996e-01, -3.9821e-01,  2.1234e-01, -2.5750e-01,  2.1039e-01,\n",
      "         -6.9260e-02, -5.0269e-01,  3.2701e-02,  1.2496e-01, -5.2414e-01,\n",
      "          8.0773e-01,  3.5101e-02,  1.7447e-01, -3.6008e-01,  9.8664e-02,\n",
      "         -1.6121e-01, -5.1398e-02,  3.1422e-01, -2.8368e-01,  3.0824e-02,\n",
      "         -2.0017e-01, -8.5593e-01,  6.4579e-01,  9.2284e-01, -2.4461e-01,\n",
      "         -1.6736e-01, -3.6745e-01,  1.9234e-01, -2.3954e-02, -7.4577e-01,\n",
      "          4.9560e-02, -4.1892e-02,  9.5528e-02, -2.2686e-01, -2.0633e-01,\n",
      "          1.6257e-01,  8.3331e-01, -1.1151e-01, -8.5414e-02, -1.9509e-01,\n",
      "         -9.9653e-02, -1.2360e-01,  2.6783e-01,  8.6379e-03,  2.1616e-01,\n",
      "         -5.4382e-01, -5.6423e-02,  3.6950e-01,  5.6911e-01,  9.7361e-02,\n",
      "          1.6120e-01, -2.6157e-01,  1.9899e-01, -2.4897e-02,  3.2977e-01,\n",
      "          2.7410e-01, -4.1778e-01, -4.8392e-01,  1.7643e-01,  1.2259e-01,\n",
      "         -4.4573e-01,  6.6110e-02, -5.3140e-01, -6.5622e-01, -1.9397e-02,\n",
      "         -6.7262e-01,  1.6934e-02,  3.8208e-01, -4.3993e-01, -3.5655e-01,\n",
      "         -4.6506e-01, -8.1422e-01, -4.6429e-01,  2.9865e-01, -2.7192e-01,\n",
      "          3.6284e-02,  4.6681e-01, -5.7665e-01, -3.1366e-01,  6.7940e-02,\n",
      "         -4.2519e-02,  1.6996e-01, -4.7127e-01, -2.2567e-01, -2.4489e-01,\n",
      "         -5.5830e-01, -2.0381e-01, -2.2812e-01, -2.4683e-01,  1.4564e-01,\n",
      "          2.5730e-01,  2.4700e-01,  9.5751e-02, -3.2504e-01,  3.1649e-01,\n",
      "         -2.5753e-01,  3.9654e-01, -8.2685e-02, -7.6294e-01, -3.0649e-01,\n",
      "          6.8846e-01, -2.8198e-02, -5.6753e-02, -2.6040e-02, -6.3759e-01,\n",
      "         -2.3543e-02, -6.0610e-01, -1.7311e-02,  2.4866e-01, -6.2164e-01,\n",
      "          5.2780e-01, -2.7567e-01, -2.2525e-01, -1.2802e-01,  4.9131e-01,\n",
      "          6.9914e-01, -8.4983e-02,  4.4903e-01, -3.1975e-01,  4.7123e-01,\n",
      "         -9.7514e-02, -3.1830e-01,  2.8655e-01,  3.8270e-01, -3.2677e-01,\n",
      "         -5.6583e-02,  2.8425e-01, -5.0245e-01, -3.6103e-01,  1.2714e-01,\n",
      "         -7.3509e-03, -1.0625e-01, -8.8444e-02, -2.2793e-01, -2.7523e-01,\n",
      "          5.2036e-03, -2.8692e-02,  6.2963e-01,  5.8729e-01, -3.5180e-01,\n",
      "         -2.3539e-01, -1.4033e-02,  4.2077e-01,  9.8472e-02, -1.8728e-01,\n",
      "         -2.6075e-01,  2.3713e-01,  2.5146e-01,  1.8572e-01, -1.8115e-01,\n",
      "          6.5888e-01, -1.8992e-01, -6.4536e-02, -4.0549e-01, -1.4103e-01,\n",
      "         -4.0775e-02, -1.6760e-01, -4.8874e-01,  1.1819e-01,  1.4559e-01,\n",
      "         -1.7838e-02,  2.1383e-01, -1.7482e-01,  2.2657e-01,  3.0563e-01,\n",
      "          9.6107e-02, -2.4998e-01,  5.1688e-02,  2.9682e-01, -7.0754e-02,\n",
      "          2.8818e-01,  2.0876e-01, -1.7178e-01,  2.4983e-01,  8.6650e-02,\n",
      "         -4.2097e-01, -3.0844e-01, -2.5852e-02,  1.0409e-01, -2.1603e-01,\n",
      "         -1.7787e-01,  1.6330e-01, -3.6254e-02,  6.6140e-02, -7.9144e-02,\n",
      "         -8.5507e-02,  3.5910e-01,  2.6946e-01,  3.3228e-01,  5.5854e-01,\n",
      "         -1.2882e-01, -3.9748e-01, -8.7450e-01, -1.7268e-01, -6.6272e-02,\n",
      "         -3.3490e-01,  3.9443e-01,  4.0415e-01,  1.2376e-01, -7.1341e-02,\n",
      "          1.2797e-01, -7.1189e-02, -1.2241e-01,  1.5620e-01, -2.1178e-02,\n",
      "          3.1407e-01, -2.1019e-01,  1.6739e-01, -9.8549e-02, -5.2624e-01,\n",
      "         -2.6682e-01, -4.5510e-01,  4.8375e-01,  6.5390e-02,  1.5119e-01,\n",
      "          2.1014e-01,  6.5503e-02, -4.7755e-02, -3.6387e-01, -2.3174e-01,\n",
      "          1.2571e-01, -9.5054e-02, -8.0045e-02, -4.5555e-01,  2.6805e-02,\n",
      "         -5.2846e-01, -5.0054e-01,  1.5009e-01,  1.2884e-01, -1.4486e-02,\n",
      "         -7.1371e-02, -1.5265e-01,  3.1776e-01,  3.3658e-01, -7.9878e-01,\n",
      "         -1.6418e-02,  1.8878e-01, -7.7529e-03,  2.9177e-01, -3.2605e-01,\n",
      "         -2.2040e-01,  2.9183e-02,  5.5629e-01,  7.1562e-02,  2.4771e-01,\n",
      "          5.7158e-01,  2.6456e-01,  1.5580e-01, -2.0931e-01, -4.2919e-02,\n",
      "          1.4494e-01, -5.1109e-01, -1.4733e-01, -6.6389e-01, -7.2056e-01,\n",
      "          4.5812e-04, -1.1847e-01, -1.3378e-01, -3.1583e-01,  1.0202e-01,\n",
      "          9.3433e-02,  6.8352e-02,  2.8667e-01, -1.2282e-01,  1.9687e-01,\n",
      "          2.2935e-01,  2.8652e-01, -1.7299e-02, -1.7061e-01, -1.7527e-01,\n",
      "          2.2914e-01,  1.1966e-01, -3.9172e-01, -7.0703e-02,  1.5583e-01,\n",
      "         -6.2883e-01, -7.2560e-02, -1.7710e-01,  4.0758e-01,  8.0262e-01,\n",
      "         -3.1754e-01, -2.2290e-01,  7.1303e-02, -9.2452e-02, -4.2641e-02,\n",
      "          3.9105e-01, -3.9088e-02, -1.1520e-01,  6.0882e-01, -2.9730e-02,\n",
      "          6.4119e-03,  1.5244e-01,  2.9523e-01, -1.1728e-01, -4.8515e-02,\n",
      "          3.4415e-01, -2.8832e-01,  4.9463e-01, -5.6025e-01,  6.3891e-01,\n",
      "          3.2204e-01, -1.7675e-02,  1.4156e-02,  1.5895e-01, -7.5685e-02,\n",
      "         -2.9030e-01,  7.5007e-03,  2.7518e-01, -3.0687e-02,  8.0728e-02,\n",
      "          3.2098e-01,  5.6077e-01, -6.2662e-01,  1.6945e-01,  4.0143e-01,\n",
      "         -5.4439e-01, -1.5228e-01,  3.6310e-01, -1.9306e-01,  1.0272e-02,\n",
      "          2.5695e-01, -1.8622e-01,  3.8859e-01,  4.3382e-01, -6.2590e-01,\n",
      "         -1.8991e-01,  1.2357e-01, -2.3268e-02,  6.8462e-02,  7.4871e-02,\n",
      "         -1.1460e-01,  2.8218e-01,  7.2636e-02, -3.7670e-01,  1.7401e-01,\n",
      "          4.0854e-01,  5.3037e-02,  3.0029e-03, -2.8690e-02, -4.2643e-01,\n",
      "         -9.7109e-02,  4.2530e-01,  2.9072e-01, -6.9504e-02,  1.3535e-02,\n",
      "          1.1620e-01,  4.8843e-01,  2.9852e-01,  2.2764e-01,  1.4844e-01,\n",
      "          6.1039e-02, -5.9234e-01, -1.9743e-01,  3.7472e-02,  3.0675e-01,\n",
      "         -7.6830e-02,  2.8114e-01, -9.8875e-01, -4.5447e-01, -4.7905e-01,\n",
      "         -7.7498e-02, -4.8603e-01,  4.9516e-01,  7.5292e-01,  1.8514e-01,\n",
      "          2.0768e-02, -1.8397e-01,  1.3217e-01,  1.3406e-01, -4.5412e-03,\n",
      "         -6.6559e-02, -1.3945e-01,  2.3221e-02,  4.8387e-01, -1.1136e-01,\n",
      "         -2.9836e-01, -1.0867e-01, -4.5883e-01,  1.2924e-01, -2.7499e-02,\n",
      "         -6.8244e-01, -2.6319e-01,  2.0516e-01, -7.9920e-02, -1.4753e-01,\n",
      "         -8.1768e-02,  3.4842e-01, -8.4083e-01,  5.0953e-01, -1.1681e-01,\n",
      "          4.8506e-01, -8.8035e-02, -2.7925e-01, -8.9585e-02,  3.4756e-01,\n",
      "          2.1508e-01,  2.5062e-01,  1.2681e-01,  5.1904e-01,  1.3173e-03,\n",
      "         -7.7346e-01, -1.0850e-01, -1.2238e-01,  3.2922e-01,  3.1577e-01,\n",
      "          1.6335e-01, -5.7751e-01, -3.1688e-01,  1.6406e-01,  2.3732e-01,\n",
      "         -1.3777e+00,  7.4106e-02, -4.1926e-01, -3.9523e-01,  2.2406e-01,\n",
      "          6.0124e-01, -5.4558e-01,  4.1408e-02, -2.6068e-02, -1.9405e-01,\n",
      "          1.5132e-01, -8.2828e-02, -2.9081e-01, -4.3664e-01, -5.0973e-02,\n",
      "          2.0336e-01,  6.3473e-02, -1.9184e-01, -5.5661e-01,  3.1114e-01,\n",
      "          1.9017e-01, -1.3146e-02,  2.3083e-01,  3.8410e-01,  4.4507e-01,\n",
      "          1.6011e-01, -1.2990e-01, -4.5546e-01, -5.0654e-02,  7.9863e-02,\n",
      "          3.8918e-01,  1.1513e-01, -2.4930e+00, -6.3500e-01,  4.2981e-01,\n",
      "          1.5213e-01,  2.8047e-01, -4.1494e-01,  9.3165e-02, -6.3151e-02,\n",
      "          6.6648e-02, -2.2275e-01,  3.6408e-01, -1.8735e-01,  1.4359e-02,\n",
      "         -3.5025e-02,  9.7067e-02, -1.7026e-03]])\n"
     ]
    }
   ],
   "source": [
    "def get_bert_embeddings(text):\n",
    "    # Başlıkları token'ize et\n",
    "    inputs = tokenizer(text, return_tensors='pt', padding=True, truncation=True, max_length=50) # pt pytorch un bir dosya uzantisi  \n",
    "    # pytorch tensorlarinin kaydedilmesi icin kullanilan bir formati ifade eder.\n",
    "    # 50 olmasinin sebebi film basliklari genellikle 50 karakterden olusur \n",
    "    # kisa metinleri belirli bir uzunluga cikarmak icin kullanilan bir tekniktir.\n",
    "    # modelin bekledigi maksimum uzunlugu asan metinleri kisaltma islemi \n",
    "\n",
    "    # Modeli çalıştır ve çıkışları al\n",
    "    with torch.no_grad():\n",
    "        outputs = model(**inputs)\n",
    "\n",
    "    # Embedding'leri al (son katmandan [CLS] token'ının çıkışı)\n",
    "    embeddings = outputs.last_hidden_state.mean(dim=1)\n",
    "    return embeddings\n",
    "\n",
    "# Örnek olarak birkaç film başlığı için embedding çıkaralım\n",
    "sample_titles = movies['Title'].head(5)  # İlk 5 başlık\n",
    "embeddings = [get_bert_embeddings(title) for title in sample_titles]\n",
    "\n",
    "# İlk embedding'i kontrol edelim\n",
    "print(embeddings[0])\n",
    "\n"
   ]
  },
  {
   "cell_type": "code",
   "execution_count": 36,
   "id": "1fb6338a-c569-44bc-afdb-36182e0bb403",
   "metadata": {},
   "outputs": [
    {
     "name": "stdout",
     "output_type": "stream",
     "text": [
      "Benzerlik matrisi hesaplandı! 🎯\n"
     ]
    }
   ],
   "source": [
    "from sklearn.metrics.pairwise import cosine_similarity\n",
    "import numpy as np\n",
    "import torch\n",
    "\n",
    "# Embedding'leri film başlıkları için hesapla ve sakla\n",
    "movies[\"Embeddings\"] = movies[\"Title\"].apply(lambda x: get_bert_embeddings(x))\n",
    "\n",
    "# Tüm filmlerin embedding'lerini numpy array'e çevir\n",
    "embedding_matrix = np.vstack(movies[\"Embeddings\"].values)\n",
    "\n",
    "# Cosine similarity matrisini hesapla\n",
    "similarity_matrix = cosine_similarity(embedding_matrix)\n",
    "\n",
    "print(\"Benzerlik matrisi hesaplandı! 🎯\")\n",
    "\n",
    "\n"
   ]
  },
  {
   "cell_type": "code",
   "execution_count": 38,
   "id": "f2a2ce1c-efac-499d-ad85-f67c59528a50",
   "metadata": {},
   "outputs": [
    {
     "name": "stdout",
     "output_type": "stream",
     "text": [
      "Title                         Toy Story   Jumanji   Grumpier Old Men   \\\n",
      "Title                                                                   \n",
      "Toy Story                       1.000000  0.515668           0.538995   \n",
      "Jumanji                         0.515668  1.000000           0.423040   \n",
      "Grumpier Old Men                0.538995  0.423040           1.000000   \n",
      "Waiting to Exhale               0.526111  0.480692           0.484154   \n",
      "Father of the Bride Part II     0.554487  0.472173           0.478333   \n",
      "\n",
      "Title                         Waiting to Exhale   Father of the Bride Part II   \n",
      "Title                                                                           \n",
      "Toy Story                               0.526111                      0.554487  \n",
      "Jumanji                                 0.480692                      0.472173  \n",
      "Grumpier Old Men                        0.484154                      0.478333  \n",
      "Waiting to Exhale                       1.000000                      0.441255  \n",
      "Father of the Bride Part II             0.441255                      1.000000  \n"
     ]
    }
   ],
   "source": [
    "import pandas as pd\n",
    "\n",
    "# İlk 5 film için similarity matrisini al\n",
    "similarity_df = pd.DataFrame(similarity_matrix[:5, :5], \n",
    "                             index=movies[\"Title\"].head(5), \n",
    "                             columns=movies[\"Title\"].head(5))\n",
    "\n",
    "# Benzerlik değerlerini görüntüle\n",
    "print(similarity_df)\n"
   ]
  },
  {
   "cell_type": "code",
   "execution_count": null,
   "id": "f3650d81-5b62-4485-a531-72ac2f6e06ce",
   "metadata": {},
   "outputs": [],
   "source": []
  }
 ],
 "metadata": {
  "kernelspec": {
   "display_name": "Python (generativeaicourse)",
   "language": "python",
   "name": "generativeaicourse"
  },
  "language_info": {
   "codemirror_mode": {
    "name": "ipython",
    "version": 3
   },
   "file_extension": ".py",
   "mimetype": "text/x-python",
   "name": "python",
   "nbconvert_exporter": "python",
   "pygments_lexer": "ipython3",
   "version": "3.12.7"
  }
 },
 "nbformat": 4,
 "nbformat_minor": 5
}
